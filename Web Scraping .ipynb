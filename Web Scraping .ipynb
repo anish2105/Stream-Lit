{
 "cells": [
  {
   "cell_type": "markdown",
   "metadata": {},
   "source": [
    "# Web Scraping with requests and BeautifulSoup"
   ]
  },
  {
   "cell_type": "code",
   "execution_count": 1,
   "metadata": {},
   "outputs": [],
   "source": [
    "import requests\n",
    "import bs4\n",
    "import pandas as pd"
   ]
  },
  {
   "cell_type": "code",
   "execution_count": 2,
   "metadata": {},
   "outputs": [],
   "source": [
    "ourdata = requests.get('https://en.wikipedia.org/wiki/Artificial_intelligence')"
   ]
  },
  {
   "cell_type": "code",
   "execution_count": 3,
   "metadata": {},
   "outputs": [],
   "source": [
    "#ourdata.text"
   ]
  },
  {
   "cell_type": "code",
   "execution_count": 4,
   "metadata": {},
   "outputs": [],
   "source": [
    "bsp = bs4.BeautifulSoup(ourdata.text , 'xml')"
   ]
  },
  {
   "cell_type": "code",
   "execution_count": 5,
   "metadata": {},
   "outputs": [],
   "source": [
    "#bsp"
   ]
  },
  {
   "cell_type": "code",
   "execution_count": 6,
   "metadata": {},
   "outputs": [],
   "source": [
    "title = bsp.select('title')"
   ]
  },
  {
   "cell_type": "code",
   "execution_count": 7,
   "metadata": {},
   "outputs": [
    {
     "data": {
      "text/plain": [
       "[<title>Artificial intelligence - Wikipedia</title>]"
      ]
     },
     "execution_count": 7,
     "metadata": {},
     "output_type": "execute_result"
    }
   ],
   "source": [
    "title"
   ]
  },
  {
   "cell_type": "code",
   "execution_count": 8,
   "metadata": {},
   "outputs": [
    {
     "data": {
      "text/plain": [
       "'Artificial intelligence - Wikipedia'"
      ]
     },
     "execution_count": 8,
     "metadata": {},
     "output_type": "execute_result"
    }
   ],
   "source": [
    "title[0].getText()"
   ]
  },
  {
   "cell_type": "code",
   "execution_count": 9,
   "metadata": {},
   "outputs": [],
   "source": [
    "title1 = bsp.select('h2')"
   ]
  },
  {
   "cell_type": "code",
   "execution_count": 10,
   "metadata": {},
   "outputs": [
    {
     "data": {
      "text/plain": [
       "[<h2 id=\"mw-toc-heading\">Contents</h2>,\n",
       " <h2><span class=\"mw-headline\" id=\"History\">History</span></h2>,\n",
       " <h2><span class=\"mw-headline\" id=\"Goals\">Goals</span></h2>,\n",
       " <h2><span class=\"mw-headline\" id=\"Tools\">Tools</span></h2>,\n",
       " <h2><span class=\"mw-headline\" id=\"Applications\">Applications</span></h2>,\n",
       " <h2><span class=\"mw-headline\" id=\"Philosophy\">Philosophy</span></h2>,\n",
       " <h2><span class=\"mw-headline\" id=\"Future\">Future</span></h2>,\n",
       " <h2><span class=\"mw-headline\" id=\"In_fiction\">In fiction</span></h2>,\n",
       " <h2><span class=\"mw-headline\" id=\"Scientific_diplomacy\">Scientific diplomacy</span></h2>,\n",
       " <h2><span class=\"mw-headline\" id=\"See_also\">See also</span></h2>,\n",
       " <h2><span class=\"mw-headline\" id=\"Explanatory_notes\">Explanatory notes</span></h2>,\n",
       " <h2><span class=\"mw-headline\" id=\"Citations\">Citations</span></h2>,\n",
       " <h2><span class=\"mw-headline\" id=\"References\">References</span></h2>,\n",
       " <h2><span class=\"mw-headline\" id=\"Further_reading\">Further reading</span></h2>,\n",
       " <h2><span class=\"mw-headline\" id=\"External_links\">External links</span></h2>,\n",
       " <h2>Navigation menu</h2>]"
      ]
     },
     "execution_count": 10,
     "metadata": {},
     "output_type": "execute_result"
    }
   ],
   "source": [
    "title1"
   ]
  },
  {
   "cell_type": "code",
   "execution_count": 11,
   "metadata": {},
   "outputs": [
    {
     "data": {
      "text/plain": [
       "'Goals'"
      ]
     },
     "execution_count": 11,
     "metadata": {},
     "output_type": "execute_result"
    }
   ],
   "source": [
    "title1[2].getText()"
   ]
  },
  {
   "cell_type": "code",
   "execution_count": 12,
   "metadata": {},
   "outputs": [
    {
     "name": "stdout",
     "output_type": "stream",
     "text": [
      "Contents\n",
      "History\n",
      "Goals\n",
      "Tools\n",
      "Applications\n",
      "Philosophy\n",
      "Future\n",
      "In fiction\n",
      "Scientific diplomacy\n",
      "See also\n",
      "Explanatory notes\n",
      "Citations\n",
      "References\n",
      "Further reading\n",
      "External links\n",
      "Navigation menu\n"
     ]
    }
   ],
   "source": [
    "for i in title1:\n",
    "    print(i.text)"
   ]
  },
  {
   "cell_type": "code",
   "execution_count": 13,
   "metadata": {},
   "outputs": [],
   "source": [
    "links = bsp.select('link')"
   ]
  },
  {
   "cell_type": "code",
   "execution_count": 14,
   "metadata": {},
   "outputs": [],
   "source": [
    "#links"
   ]
  },
  {
   "cell_type": "code",
   "execution_count": 15,
   "metadata": {},
   "outputs": [],
   "source": [
    "import wikipedia\n",
    "from pprint import pprint"
   ]
  },
  {
   "cell_type": "code",
   "execution_count": 16,
   "metadata": {},
   "outputs": [
    {
     "data": {
      "text/plain": [
       "['Python',\n",
       " 'Python (programming language)',\n",
       " 'Monty Python',\n",
       " 'Setuptools',\n",
       " 'Ball python',\n",
       " 'Python (codename)',\n",
       " 'Burmese python',\n",
       " 'Reticulated python',\n",
       " 'Python (genus)',\n",
       " 'Colt Python']"
      ]
     },
     "execution_count": 16,
     "metadata": {},
     "output_type": "execute_result"
    }
   ],
   "source": [
    "wikipedia.search('python')"
   ]
  },
  {
   "cell_type": "code",
   "execution_count": 17,
   "metadata": {},
   "outputs": [],
   "source": [
    "ai=wikipedia.page(wikipedia.search('Artificial intelligence')[0])"
   ]
  },
  {
   "cell_type": "code",
   "execution_count": 18,
   "metadata": {},
   "outputs": [
    {
     "data": {
      "text/plain": [
       "<WikipediaPage 'Artificial intelligence'>"
      ]
     },
     "execution_count": 18,
     "metadata": {},
     "output_type": "execute_result"
    }
   ],
   "source": [
    "ai"
   ]
  },
  {
   "cell_type": "code",
   "execution_count": 19,
   "metadata": {},
   "outputs": [
    {
     "data": {
      "text/plain": [
       "['_WikipediaPage__continued_query',\n",
       " '_WikipediaPage__load',\n",
       " '_WikipediaPage__title_query_param',\n",
       " '__class__',\n",
       " '__delattr__',\n",
       " '__dict__',\n",
       " '__dir__',\n",
       " '__doc__',\n",
       " '__eq__',\n",
       " '__format__',\n",
       " '__ge__',\n",
       " '__getattribute__',\n",
       " '__gt__',\n",
       " '__hash__',\n",
       " '__init__',\n",
       " '__init_subclass__',\n",
       " '__le__',\n",
       " '__lt__',\n",
       " '__module__',\n",
       " '__ne__',\n",
       " '__new__',\n",
       " '__reduce__',\n",
       " '__reduce_ex__',\n",
       " '__repr__',\n",
       " '__setattr__',\n",
       " '__sizeof__',\n",
       " '__str__',\n",
       " '__subclasshook__',\n",
       " '__weakref__',\n",
       " 'categories',\n",
       " 'content',\n",
       " 'coordinates',\n",
       " 'html',\n",
       " 'images',\n",
       " 'links',\n",
       " 'original_title',\n",
       " 'pageid',\n",
       " 'parent_id',\n",
       " 'references',\n",
       " 'revision_id',\n",
       " 'section',\n",
       " 'sections',\n",
       " 'summary',\n",
       " 'title',\n",
       " 'url']"
      ]
     },
     "execution_count": 19,
     "metadata": {},
     "output_type": "execute_result"
    }
   ],
   "source": [
    "dir(ai)"
   ]
  },
  {
   "cell_type": "code",
   "execution_count": 20,
   "metadata": {},
   "outputs": [
    {
     "data": {
      "text/plain": [
       "'Artificial intelligence'"
      ]
     },
     "execution_count": 20,
     "metadata": {},
     "output_type": "execute_result"
    }
   ],
   "source": [
    "ai.title"
   ]
  },
  {
   "cell_type": "code",
   "execution_count": 21,
   "metadata": {},
   "outputs": [],
   "source": [
    "#ai.summary"
   ]
  },
  {
   "cell_type": "code",
   "execution_count": 22,
   "metadata": {},
   "outputs": [],
   "source": [
    "#ai.images"
   ]
  },
  {
   "cell_type": "markdown",
   "metadata": {},
   "source": [
    "# Scraping From 'BOOK TO SCRAPE' "
   ]
  },
  {
   "cell_type": "code",
   "execution_count": 23,
   "metadata": {},
   "outputs": [],
   "source": [
    "pages = []\n",
    "prices = []\n",
    "ratings = []\n",
    "title = []\n",
    "urls = []"
   ]
  },
  {
   "cell_type": "code",
   "execution_count": 24,
   "metadata": {},
   "outputs": [],
   "source": [
    "no_of_pages = 5"
   ]
  },
  {
   "cell_type": "code",
   "execution_count": 25,
   "metadata": {},
   "outputs": [],
   "source": [
    "for i in range(1, no_of_pages+1):\n",
    "    url =(' https://books.toscrape.com/catalogue/page-{}.html'.format(i))\n",
    "    pages.append(url)"
   ]
  },
  {
   "cell_type": "code",
   "execution_count": 26,
   "metadata": {},
   "outputs": [
    {
     "data": {
      "text/plain": [
       "[' https://books.toscrape.com/catalogue/page-1.html',\n",
       " ' https://books.toscrape.com/catalogue/page-2.html',\n",
       " ' https://books.toscrape.com/catalogue/page-3.html',\n",
       " ' https://books.toscrape.com/catalogue/page-4.html',\n",
       " ' https://books.toscrape.com/catalogue/page-5.html']"
      ]
     },
     "execution_count": 26,
     "metadata": {},
     "output_type": "execute_result"
    }
   ],
   "source": [
    "pages"
   ]
  },
  {
   "cell_type": "code",
   "execution_count": 27,
   "metadata": {},
   "outputs": [],
   "source": [
    "for item in pages:\n",
    "    page = requests.get(item)\n",
    "    soup = bs4.BeautifulSoup(page.text , 'html.parser')"
   ]
  },
  {
   "cell_type": "code",
   "execution_count": 28,
   "metadata": {},
   "outputs": [],
   "source": [
    "#print(soup)"
   ]
  },
  {
   "cell_type": "code",
   "execution_count": 29,
   "metadata": {},
   "outputs": [],
   "source": [
    "# For more clear view of the pages\n",
    "#print(soup.prettify())"
   ]
  },
  {
   "cell_type": "markdown",
   "metadata": {},
   "source": [
    "# Finding all h3 tags"
   ]
  },
  {
   "cell_type": "code",
   "execution_count": 30,
   "metadata": {},
   "outputs": [
    {
     "name": "stdout",
     "output_type": "stream",
     "text": [
      "<h3><a href=\"princess-jellyfish-2-in-1-omnibus-vol-01-princess-jellyfish-2-in-1-omnibus-1_920/index.html\" title=\"Princess Jellyfish 2-in-1 Omnibus, Vol. 01 (Princess Jellyfish 2-in-1 Omnibus #1)\">Princess Jellyfish 2-in-1 Omnibus, ...</a></h3>\n",
      "<h3><a href=\"princess-between-worlds-wide-awake-princess-5_919/index.html\" title=\"Princess Between Worlds (Wide-Awake Princess #5)\">Princess Between Worlds (Wide-Awake ...</a></h3>\n",
      "<h3><a href=\"pop-gun-war-volume-1-gift_918/index.html\" title=\"Pop Gun War, Volume 1: Gift\">Pop Gun War, Volume ...</a></h3>\n",
      "<h3><a href=\"political-suicide-missteps-peccadilloes-bad-calls-backroom-hijinx-sordid-pasts-rotten-breaks-and-just-plain-dumb-mistakes-in-the-annals-of-american-politics_917/index.html\" title=\"Political Suicide: Missteps, Peccadilloes, Bad Calls, Backroom Hijinx, Sordid Pasts, Rotten Breaks, and Just Plain Dumb Mistakes in the Annals of American Politics\">Political Suicide: Missteps, Peccadilloes, ...</a></h3>\n",
      "<h3><a href=\"patience_916/index.html\" title=\"Patience\">Patience</a></h3>\n",
      "<h3><a href=\"outcast-vol-1-a-darkness-surrounds-him-outcast-1_915/index.html\" title=\"Outcast, Vol. 1: A Darkness Surrounds Him (Outcast #1)\">Outcast, Vol. 1: A ...</a></h3>\n",
      "<h3><a href=\"orange-the-complete-collection-1-orange-the-complete-collection-1_914/index.html\" title=\"orange: The Complete Collection 1 (orange: The Complete Collection #1)\">orange: The Complete Collection ...</a></h3>\n",
      "<h3><a href=\"online-marketing-for-busy-authors-a-step-by-step-guide_913/index.html\" title=\"Online Marketing for Busy Authors: A Step-By-Step Guide\">Online Marketing for Busy ...</a></h3>\n",
      "<h3><a href=\"on-a-midnight-clear_912/index.html\" title=\"On a Midnight Clear\">On a Midnight Clear</a></h3>\n",
      "<h3><a href=\"obsidian-lux-1_911/index.html\" title=\"Obsidian (Lux #1)\">Obsidian (Lux #1)</a></h3>\n",
      "<h3><a href=\"my-paris-kitchen-recipes-and-stories_910/index.html\" title=\"My Paris Kitchen: Recipes and Stories\">My Paris Kitchen: Recipes ...</a></h3>\n",
      "<h3><a href=\"masks-and-shadows_909/index.html\" title=\"Masks and Shadows\">Masks and Shadows</a></h3>\n",
      "<h3><a href=\"mama-tried-traditional-italian-cooking-for-the-screwed-crude-vegan-and-tattooed_908/index.html\" title=\"Mama Tried: Traditional Italian Cooking for the Screwed, Crude, Vegan, and Tattooed\">Mama Tried: Traditional Italian ...</a></h3>\n",
      "<h3><a href=\"lumberjanes-vol-2-friendship-to-the-max-lumberjanes-5-8_907/index.html\" title=\"Lumberjanes, Vol. 2: Friendship to the Max (Lumberjanes #5-8)\">Lumberjanes, Vol. 2: Friendship ...</a></h3>\n",
      "<h3><a href=\"lumberjanes-vol-1-beware-the-kitten-holy-lumberjanes-1-4_906/index.html\" title=\"Lumberjanes, Vol. 1: Beware the Kitten Holy (Lumberjanes #1-4)\">Lumberjanes, Vol. 1: Beware ...</a></h3>\n",
      "<h3><a href=\"lumberjanes-vol-3-a-terrible-plan-lumberjanes-9-12_905/index.html\" title=\"Lumberjanes Vol. 3: A Terrible Plan (Lumberjanes #9-12)\">Lumberjanes Vol. 3: A ...</a></h3>\n",
      "<h3><a href=\"layered-baking-building-and-styling-spectacular-cakes_904/index.html\" title=\"Layered: Baking, Building, and Styling Spectacular Cakes\">Layered: Baking, Building, and ...</a></h3>\n",
      "<h3><a href=\"judo-seven-steps-to-black-belt-an-introductory-guide-for-beginners_903/index.html\" title=\"Judo: Seven Steps to Black Belt (an Introductory Guide for Beginners)\">Judo: Seven Steps to ...</a></h3>\n",
      "<h3><a href=\"join_902/index.html\" title=\"Join\">Join</a></h3>\n",
      "<h3><a href=\"in-the-country-we-love-my-family-divided_901/index.html\" title=\"In the Country We Love: My Family Divided\">In the Country We ...</a></h3>\n"
     ]
    }
   ],
   "source": [
    "for i in soup.findAll('h3'):\n",
    "    print(i)"
   ]
  },
  {
   "cell_type": "code",
   "execution_count": 31,
   "metadata": {},
   "outputs": [],
   "source": [
    "for i in soup.findAll('h3'):\n",
    "    titless = i.getText()\n",
    "    title.append(titless)"
   ]
  },
  {
   "cell_type": "code",
   "execution_count": 32,
   "metadata": {},
   "outputs": [
    {
     "data": {
      "text/plain": [
       "['Princess Jellyfish 2-in-1 Omnibus, ...',\n",
       " 'Princess Between Worlds (Wide-Awake ...',\n",
       " 'Pop Gun War, Volume ...',\n",
       " 'Political Suicide: Missteps, Peccadilloes, ...',\n",
       " 'Patience',\n",
       " 'Outcast, Vol. 1: A ...',\n",
       " 'orange: The Complete Collection ...',\n",
       " 'Online Marketing for Busy ...',\n",
       " 'On a Midnight Clear',\n",
       " 'Obsidian (Lux #1)',\n",
       " 'My Paris Kitchen: Recipes ...',\n",
       " 'Masks and Shadows',\n",
       " 'Mama Tried: Traditional Italian ...',\n",
       " 'Lumberjanes, Vol. 2: Friendship ...',\n",
       " 'Lumberjanes, Vol. 1: Beware ...',\n",
       " 'Lumberjanes Vol. 3: A ...',\n",
       " 'Layered: Baking, Building, and ...',\n",
       " 'Judo: Seven Steps to ...',\n",
       " 'Join',\n",
       " 'In the Country We ...']"
      ]
     },
     "execution_count": 32,
     "metadata": {},
     "output_type": "execute_result"
    }
   ],
   "source": [
    "title"
   ]
  },
  {
   "cell_type": "markdown",
   "metadata": {},
   "source": [
    "# Finding all prices"
   ]
  },
  {
   "cell_type": "code",
   "execution_count": 33,
   "metadata": {},
   "outputs": [],
   "source": [
    "for p in soup.find_all('p' , class_ = 'price_color'):\n",
    "    price = p.getText()\n",
    "    prices.append(price)"
   ]
  },
  {
   "cell_type": "code",
   "execution_count": 34,
   "metadata": {},
   "outputs": [
    {
     "data": {
      "text/plain": [
       "['Â£13.61',\n",
       " 'Â£13.34',\n",
       " 'Â£18.97',\n",
       " 'Â£36.28',\n",
       " 'Â£10.16',\n",
       " 'Â£15.44',\n",
       " 'Â£48.41',\n",
       " 'Â£46.35',\n",
       " 'Â£14.07',\n",
       " 'Â£14.86',\n",
       " 'Â£33.37',\n",
       " 'Â£56.40',\n",
       " 'Â£14.02',\n",
       " 'Â£46.91',\n",
       " 'Â£45.61',\n",
       " 'Â£19.92',\n",
       " 'Â£40.11',\n",
       " 'Â£53.90',\n",
       " 'Â£35.67',\n",
       " 'Â£22.00']"
      ]
     },
     "execution_count": 34,
     "metadata": {},
     "output_type": "execute_result"
    }
   ],
   "source": [
    "prices"
   ]
  },
  {
   "cell_type": "markdown",
   "metadata": {},
   "source": [
    "# Finding all ratings"
   ]
  },
  {
   "cell_type": "code",
   "execution_count": 35,
   "metadata": {},
   "outputs": [
    {
     "name": "stdout",
     "output_type": "stream",
     "text": [
      "Five\n",
      "Five\n",
      "One\n",
      "Two\n",
      "Three\n",
      "Four\n",
      "One\n",
      "One\n",
      "Three\n",
      "Two\n",
      "Two\n",
      "Two\n",
      "Four\n",
      "Two\n",
      "Three\n",
      "Two\n",
      "One\n",
      "Two\n",
      "Five\n",
      "Four\n"
     ]
    }
   ],
   "source": [
    "for r in soup.find_all('p' , class_ = 'star-rating'):\n",
    "    for k , v in r.attrs.items():\n",
    "        rating = v[1]\n",
    "        ratings.append(rating)\n",
    "        print(rating)"
   ]
  },
  {
   "cell_type": "code",
   "execution_count": 36,
   "metadata": {},
   "outputs": [
    {
     "data": {
      "text/plain": [
       "['Five',\n",
       " 'Five',\n",
       " 'One',\n",
       " 'Two',\n",
       " 'Three',\n",
       " 'Four',\n",
       " 'One',\n",
       " 'One',\n",
       " 'Three',\n",
       " 'Two',\n",
       " 'Two',\n",
       " 'Two',\n",
       " 'Four',\n",
       " 'Two',\n",
       " 'Three',\n",
       " 'Two',\n",
       " 'One',\n",
       " 'Two',\n",
       " 'Five',\n",
       " 'Four']"
      ]
     },
     "execution_count": 36,
     "metadata": {},
     "output_type": "execute_result"
    }
   ],
   "source": [
    "ratings"
   ]
  },
  {
   "cell_type": "code",
   "execution_count": 37,
   "metadata": {},
   "outputs": [
    {
     "data": {
      "text/plain": [
       "{'class': ['star-rating', 'Four']}"
      ]
     },
     "execution_count": 37,
     "metadata": {},
     "output_type": "execute_result"
    }
   ],
   "source": [
    "r.attrs"
   ]
  },
  {
   "cell_type": "code",
   "execution_count": 38,
   "metadata": {},
   "outputs": [
    {
     "data": {
      "text/plain": [
       "['star-rating', 'Four']"
      ]
     },
     "execution_count": 38,
     "metadata": {},
     "output_type": "execute_result"
    }
   ],
   "source": [
    "v"
   ]
  },
  {
   "cell_type": "markdown",
   "metadata": {},
   "source": [
    "# Finding all urls of images"
   ]
  },
  {
   "cell_type": "code",
   "execution_count": 39,
   "metadata": {},
   "outputs": [],
   "source": [
    "divs = soup.find_all('div' , class_ = 'image_container')\n",
    "# print(divs)\n",
    "for thumbs in divs:\n",
    "    tags = thumbs.find('img' , class_ = 'thumbnail')\n",
    "    links='http://books.toscrape.com/' + str(tags['src'])\n",
    "    newlinks = links.replace('..' , '')\n",
    "    urls.append(newlinks)"
   ]
  },
  {
   "cell_type": "code",
   "execution_count": 40,
   "metadata": {},
   "outputs": [
    {
     "data": {
      "text/plain": [
       "['http://books.toscrape.com//media/cache/78/0b/780b2c28122750c2c383846155815bf7.jpg',\n",
       " 'http://books.toscrape.com//media/cache/b7/e8/b7e84b78be3d9bb79b71156a5e5d4e42.jpg',\n",
       " 'http://books.toscrape.com//media/cache/c8/2f/c82f629a31b3f47bdb17ac14aa51076d.jpg',\n",
       " 'http://books.toscrape.com//media/cache/64/44/6444dacdcb9edaadbbd691524622aeb8.jpg',\n",
       " 'http://books.toscrape.com//media/cache/01/72/01726c619a05114dca75bd840095016d.jpg',\n",
       " 'http://books.toscrape.com//media/cache/cb/00/cb004189f548d75ad430d3ed19e6daa9.jpg',\n",
       " 'http://books.toscrape.com//media/cache/03/88/03886a8502ca54dbce0d91c2568ab69d.jpg',\n",
       " 'http://books.toscrape.com//media/cache/ea/9b/ea9b2cb8abbb317402e618445bade1e1.jpg',\n",
       " 'http://books.toscrape.com//media/cache/a1/14/a114d70e7babf110ba42a389078e9a45.jpg',\n",
       " 'http://books.toscrape.com//media/cache/fc/72/fc72f158554b4b4164701e1dfa1153c7.jpg',\n",
       " 'http://books.toscrape.com//media/cache/f5/65/f565af3d9dd20a1ad72a1e7c4157387d.jpg',\n",
       " 'http://books.toscrape.com//media/cache/ff/e8/ffe81bf98f8386ef29e193abfb6f9c1e.jpg',\n",
       " 'http://books.toscrape.com//media/cache/10/c6/10c61093002db1fec4089d8076678624.jpg',\n",
       " 'http://books.toscrape.com//media/cache/d3/15/d3158e8d3546fb90cced3c1d44a92a34.jpg',\n",
       " 'http://books.toscrape.com//media/cache/7e/a0/7ea062007ef00107e3c16d336b41fab2.jpg',\n",
       " 'http://books.toscrape.com//media/cache/5f/b1/5fb1bf88dcfda795606745ce35be5975.jpg',\n",
       " 'http://books.toscrape.com//media/cache/98/d1/98d1c979c4bac9e147a6718946578b0f.jpg',\n",
       " 'http://books.toscrape.com//media/cache/5f/52/5f52b1bc6d45daab2e330c744feb0359.jpg',\n",
       " 'http://books.toscrape.com//media/cache/93/63/9363f0065fbad5689f44fcf6e203eef3.jpg',\n",
       " 'http://books.toscrape.com//media/cache/fe/ea/feeafd2ad7b3077f8e74cbb1da9e3c7d.jpg']"
      ]
     },
     "execution_count": 40,
     "metadata": {},
     "output_type": "execute_result"
    }
   ],
   "source": [
    "urls"
   ]
  },
  {
   "cell_type": "markdown",
   "metadata": {},
   "source": [
    "# Data Processing on Scraped Data"
   ]
  },
  {
   "cell_type": "code",
   "execution_count": 41,
   "metadata": {},
   "outputs": [],
   "source": [
    "web_data = {'Title':title , 'Price' : prices , 'Ratings' : ratings , 'URL' : urls}"
   ]
  },
  {
   "cell_type": "code",
   "execution_count": 42,
   "metadata": {},
   "outputs": [
    {
     "name": "stdout",
     "output_type": "stream",
     "text": [
      "20\n",
      "20\n",
      "20\n",
      "20\n"
     ]
    }
   ],
   "source": [
    "print(len(title))\n",
    "print(len(prices))\n",
    "print(len(ratings))\n",
    "print(len(urls))"
   ]
  },
  {
   "cell_type": "code",
   "execution_count": 43,
   "metadata": {},
   "outputs": [],
   "source": [
    "df = pd.DataFrame(web_data)"
   ]
  },
  {
   "cell_type": "code",
   "execution_count": 44,
   "metadata": {},
   "outputs": [
    {
     "data": {
      "text/html": [
       "<div>\n",
       "<style scoped>\n",
       "    .dataframe tbody tr th:only-of-type {\n",
       "        vertical-align: middle;\n",
       "    }\n",
       "\n",
       "    .dataframe tbody tr th {\n",
       "        vertical-align: top;\n",
       "    }\n",
       "\n",
       "    .dataframe thead th {\n",
       "        text-align: right;\n",
       "    }\n",
       "</style>\n",
       "<table border=\"1\" class=\"dataframe\">\n",
       "  <thead>\n",
       "    <tr style=\"text-align: right;\">\n",
       "      <th></th>\n",
       "      <th>Title</th>\n",
       "      <th>Price</th>\n",
       "      <th>Ratings</th>\n",
       "      <th>URL</th>\n",
       "    </tr>\n",
       "  </thead>\n",
       "  <tbody>\n",
       "    <tr>\n",
       "      <th>0</th>\n",
       "      <td>Princess Jellyfish 2-in-1 Omnibus, ...</td>\n",
       "      <td>Â£13.61</td>\n",
       "      <td>Five</td>\n",
       "      <td>http://books.toscrape.com//media/cache/78/0b/7...</td>\n",
       "    </tr>\n",
       "    <tr>\n",
       "      <th>1</th>\n",
       "      <td>Princess Between Worlds (Wide-Awake ...</td>\n",
       "      <td>Â£13.34</td>\n",
       "      <td>Five</td>\n",
       "      <td>http://books.toscrape.com//media/cache/b7/e8/b...</td>\n",
       "    </tr>\n",
       "    <tr>\n",
       "      <th>2</th>\n",
       "      <td>Pop Gun War, Volume ...</td>\n",
       "      <td>Â£18.97</td>\n",
       "      <td>One</td>\n",
       "      <td>http://books.toscrape.com//media/cache/c8/2f/c...</td>\n",
       "    </tr>\n",
       "    <tr>\n",
       "      <th>3</th>\n",
       "      <td>Political Suicide: Missteps, Peccadilloes, ...</td>\n",
       "      <td>Â£36.28</td>\n",
       "      <td>Two</td>\n",
       "      <td>http://books.toscrape.com//media/cache/64/44/6...</td>\n",
       "    </tr>\n",
       "    <tr>\n",
       "      <th>4</th>\n",
       "      <td>Patience</td>\n",
       "      <td>Â£10.16</td>\n",
       "      <td>Three</td>\n",
       "      <td>http://books.toscrape.com//media/cache/01/72/0...</td>\n",
       "    </tr>\n",
       "    <tr>\n",
       "      <th>5</th>\n",
       "      <td>Outcast, Vol. 1: A ...</td>\n",
       "      <td>Â£15.44</td>\n",
       "      <td>Four</td>\n",
       "      <td>http://books.toscrape.com//media/cache/cb/00/c...</td>\n",
       "    </tr>\n",
       "    <tr>\n",
       "      <th>6</th>\n",
       "      <td>orange: The Complete Collection ...</td>\n",
       "      <td>Â£48.41</td>\n",
       "      <td>One</td>\n",
       "      <td>http://books.toscrape.com//media/cache/03/88/0...</td>\n",
       "    </tr>\n",
       "    <tr>\n",
       "      <th>7</th>\n",
       "      <td>Online Marketing for Busy ...</td>\n",
       "      <td>Â£46.35</td>\n",
       "      <td>One</td>\n",
       "      <td>http://books.toscrape.com//media/cache/ea/9b/e...</td>\n",
       "    </tr>\n",
       "    <tr>\n",
       "      <th>8</th>\n",
       "      <td>On a Midnight Clear</td>\n",
       "      <td>Â£14.07</td>\n",
       "      <td>Three</td>\n",
       "      <td>http://books.toscrape.com//media/cache/a1/14/a...</td>\n",
       "    </tr>\n",
       "    <tr>\n",
       "      <th>9</th>\n",
       "      <td>Obsidian (Lux #1)</td>\n",
       "      <td>Â£14.86</td>\n",
       "      <td>Two</td>\n",
       "      <td>http://books.toscrape.com//media/cache/fc/72/f...</td>\n",
       "    </tr>\n",
       "    <tr>\n",
       "      <th>10</th>\n",
       "      <td>My Paris Kitchen: Recipes ...</td>\n",
       "      <td>Â£33.37</td>\n",
       "      <td>Two</td>\n",
       "      <td>http://books.toscrape.com//media/cache/f5/65/f...</td>\n",
       "    </tr>\n",
       "    <tr>\n",
       "      <th>11</th>\n",
       "      <td>Masks and Shadows</td>\n",
       "      <td>Â£56.40</td>\n",
       "      <td>Two</td>\n",
       "      <td>http://books.toscrape.com//media/cache/ff/e8/f...</td>\n",
       "    </tr>\n",
       "    <tr>\n",
       "      <th>12</th>\n",
       "      <td>Mama Tried: Traditional Italian ...</td>\n",
       "      <td>Â£14.02</td>\n",
       "      <td>Four</td>\n",
       "      <td>http://books.toscrape.com//media/cache/10/c6/1...</td>\n",
       "    </tr>\n",
       "    <tr>\n",
       "      <th>13</th>\n",
       "      <td>Lumberjanes, Vol. 2: Friendship ...</td>\n",
       "      <td>Â£46.91</td>\n",
       "      <td>Two</td>\n",
       "      <td>http://books.toscrape.com//media/cache/d3/15/d...</td>\n",
       "    </tr>\n",
       "    <tr>\n",
       "      <th>14</th>\n",
       "      <td>Lumberjanes, Vol. 1: Beware ...</td>\n",
       "      <td>Â£45.61</td>\n",
       "      <td>Three</td>\n",
       "      <td>http://books.toscrape.com//media/cache/7e/a0/7...</td>\n",
       "    </tr>\n",
       "    <tr>\n",
       "      <th>15</th>\n",
       "      <td>Lumberjanes Vol. 3: A ...</td>\n",
       "      <td>Â£19.92</td>\n",
       "      <td>Two</td>\n",
       "      <td>http://books.toscrape.com//media/cache/5f/b1/5...</td>\n",
       "    </tr>\n",
       "    <tr>\n",
       "      <th>16</th>\n",
       "      <td>Layered: Baking, Building, and ...</td>\n",
       "      <td>Â£40.11</td>\n",
       "      <td>One</td>\n",
       "      <td>http://books.toscrape.com//media/cache/98/d1/9...</td>\n",
       "    </tr>\n",
       "    <tr>\n",
       "      <th>17</th>\n",
       "      <td>Judo: Seven Steps to ...</td>\n",
       "      <td>Â£53.90</td>\n",
       "      <td>Two</td>\n",
       "      <td>http://books.toscrape.com//media/cache/5f/52/5...</td>\n",
       "    </tr>\n",
       "    <tr>\n",
       "      <th>18</th>\n",
       "      <td>Join</td>\n",
       "      <td>Â£35.67</td>\n",
       "      <td>Five</td>\n",
       "      <td>http://books.toscrape.com//media/cache/93/63/9...</td>\n",
       "    </tr>\n",
       "    <tr>\n",
       "      <th>19</th>\n",
       "      <td>In the Country We ...</td>\n",
       "      <td>Â£22.00</td>\n",
       "      <td>Four</td>\n",
       "      <td>http://books.toscrape.com//media/cache/fe/ea/f...</td>\n",
       "    </tr>\n",
       "  </tbody>\n",
       "</table>\n",
       "</div>"
      ],
      "text/plain": [
       "                                             Title    Price Ratings  \\\n",
       "0           Princess Jellyfish 2-in-1 Omnibus, ...  Â£13.61    Five   \n",
       "1          Princess Between Worlds (Wide-Awake ...  Â£13.34    Five   \n",
       "2                          Pop Gun War, Volume ...  Â£18.97     One   \n",
       "3   Political Suicide: Missteps, Peccadilloes, ...  Â£36.28     Two   \n",
       "4                                         Patience  Â£10.16   Three   \n",
       "5                           Outcast, Vol. 1: A ...  Â£15.44    Four   \n",
       "6              orange: The Complete Collection ...  Â£48.41     One   \n",
       "7                    Online Marketing for Busy ...  Â£46.35     One   \n",
       "8                              On a Midnight Clear  Â£14.07   Three   \n",
       "9                                Obsidian (Lux #1)  Â£14.86     Two   \n",
       "10                   My Paris Kitchen: Recipes ...  Â£33.37     Two   \n",
       "11                               Masks and Shadows  Â£56.40     Two   \n",
       "12             Mama Tried: Traditional Italian ...  Â£14.02    Four   \n",
       "13             Lumberjanes, Vol. 2: Friendship ...  Â£46.91     Two   \n",
       "14                 Lumberjanes, Vol. 1: Beware ...  Â£45.61   Three   \n",
       "15                       Lumberjanes Vol. 3: A ...  Â£19.92     Two   \n",
       "16              Layered: Baking, Building, and ...  Â£40.11     One   \n",
       "17                        Judo: Seven Steps to ...  Â£53.90     Two   \n",
       "18                                            Join  Â£35.67    Five   \n",
       "19                           In the Country We ...  Â£22.00    Four   \n",
       "\n",
       "                                                  URL  \n",
       "0   http://books.toscrape.com//media/cache/78/0b/7...  \n",
       "1   http://books.toscrape.com//media/cache/b7/e8/b...  \n",
       "2   http://books.toscrape.com//media/cache/c8/2f/c...  \n",
       "3   http://books.toscrape.com//media/cache/64/44/6...  \n",
       "4   http://books.toscrape.com//media/cache/01/72/0...  \n",
       "5   http://books.toscrape.com//media/cache/cb/00/c...  \n",
       "6   http://books.toscrape.com//media/cache/03/88/0...  \n",
       "7   http://books.toscrape.com//media/cache/ea/9b/e...  \n",
       "8   http://books.toscrape.com//media/cache/a1/14/a...  \n",
       "9   http://books.toscrape.com//media/cache/fc/72/f...  \n",
       "10  http://books.toscrape.com//media/cache/f5/65/f...  \n",
       "11  http://books.toscrape.com//media/cache/ff/e8/f...  \n",
       "12  http://books.toscrape.com//media/cache/10/c6/1...  \n",
       "13  http://books.toscrape.com//media/cache/d3/15/d...  \n",
       "14  http://books.toscrape.com//media/cache/7e/a0/7...  \n",
       "15  http://books.toscrape.com//media/cache/5f/b1/5...  \n",
       "16  http://books.toscrape.com//media/cache/98/d1/9...  \n",
       "17  http://books.toscrape.com//media/cache/5f/52/5...  \n",
       "18  http://books.toscrape.com//media/cache/93/63/9...  \n",
       "19  http://books.toscrape.com//media/cache/fe/ea/f...  "
      ]
     },
     "execution_count": 44,
     "metadata": {},
     "output_type": "execute_result"
    }
   ],
   "source": [
    "df"
   ]
  },
  {
   "cell_type": "code",
   "execution_count": 45,
   "metadata": {},
   "outputs": [
    {
     "data": {
      "text/html": [
       "<div>\n",
       "<style scoped>\n",
       "    .dataframe tbody tr th:only-of-type {\n",
       "        vertical-align: middle;\n",
       "    }\n",
       "\n",
       "    .dataframe tbody tr th {\n",
       "        vertical-align: top;\n",
       "    }\n",
       "\n",
       "    .dataframe thead th {\n",
       "        text-align: right;\n",
       "    }\n",
       "</style>\n",
       "<table border=\"1\" class=\"dataframe\">\n",
       "  <thead>\n",
       "    <tr style=\"text-align: right;\">\n",
       "      <th></th>\n",
       "      <th>Title</th>\n",
       "      <th>Price</th>\n",
       "      <th>Ratings</th>\n",
       "      <th>URL</th>\n",
       "    </tr>\n",
       "  </thead>\n",
       "  <tbody>\n",
       "    <tr>\n",
       "      <th>1</th>\n",
       "      <td>Princess Jellyfish 2-in-1 Omnibus, ...</td>\n",
       "      <td>Â£13.61</td>\n",
       "      <td>Five</td>\n",
       "      <td>http://books.toscrape.com//media/cache/78/0b/7...</td>\n",
       "    </tr>\n",
       "    <tr>\n",
       "      <th>2</th>\n",
       "      <td>Princess Between Worlds (Wide-Awake ...</td>\n",
       "      <td>Â£13.34</td>\n",
       "      <td>Five</td>\n",
       "      <td>http://books.toscrape.com//media/cache/b7/e8/b...</td>\n",
       "    </tr>\n",
       "    <tr>\n",
       "      <th>3</th>\n",
       "      <td>Pop Gun War, Volume ...</td>\n",
       "      <td>Â£18.97</td>\n",
       "      <td>One</td>\n",
       "      <td>http://books.toscrape.com//media/cache/c8/2f/c...</td>\n",
       "    </tr>\n",
       "    <tr>\n",
       "      <th>4</th>\n",
       "      <td>Political Suicide: Missteps, Peccadilloes, ...</td>\n",
       "      <td>Â£36.28</td>\n",
       "      <td>Two</td>\n",
       "      <td>http://books.toscrape.com//media/cache/64/44/6...</td>\n",
       "    </tr>\n",
       "    <tr>\n",
       "      <th>5</th>\n",
       "      <td>Patience</td>\n",
       "      <td>Â£10.16</td>\n",
       "      <td>Three</td>\n",
       "      <td>http://books.toscrape.com//media/cache/01/72/0...</td>\n",
       "    </tr>\n",
       "    <tr>\n",
       "      <th>6</th>\n",
       "      <td>Outcast, Vol. 1: A ...</td>\n",
       "      <td>Â£15.44</td>\n",
       "      <td>Four</td>\n",
       "      <td>http://books.toscrape.com//media/cache/cb/00/c...</td>\n",
       "    </tr>\n",
       "    <tr>\n",
       "      <th>7</th>\n",
       "      <td>orange: The Complete Collection ...</td>\n",
       "      <td>Â£48.41</td>\n",
       "      <td>One</td>\n",
       "      <td>http://books.toscrape.com//media/cache/03/88/0...</td>\n",
       "    </tr>\n",
       "    <tr>\n",
       "      <th>8</th>\n",
       "      <td>Online Marketing for Busy ...</td>\n",
       "      <td>Â£46.35</td>\n",
       "      <td>One</td>\n",
       "      <td>http://books.toscrape.com//media/cache/ea/9b/e...</td>\n",
       "    </tr>\n",
       "    <tr>\n",
       "      <th>9</th>\n",
       "      <td>On a Midnight Clear</td>\n",
       "      <td>Â£14.07</td>\n",
       "      <td>Three</td>\n",
       "      <td>http://books.toscrape.com//media/cache/a1/14/a...</td>\n",
       "    </tr>\n",
       "    <tr>\n",
       "      <th>10</th>\n",
       "      <td>Obsidian (Lux #1)</td>\n",
       "      <td>Â£14.86</td>\n",
       "      <td>Two</td>\n",
       "      <td>http://books.toscrape.com//media/cache/fc/72/f...</td>\n",
       "    </tr>\n",
       "    <tr>\n",
       "      <th>11</th>\n",
       "      <td>My Paris Kitchen: Recipes ...</td>\n",
       "      <td>Â£33.37</td>\n",
       "      <td>Two</td>\n",
       "      <td>http://books.toscrape.com//media/cache/f5/65/f...</td>\n",
       "    </tr>\n",
       "    <tr>\n",
       "      <th>12</th>\n",
       "      <td>Masks and Shadows</td>\n",
       "      <td>Â£56.40</td>\n",
       "      <td>Two</td>\n",
       "      <td>http://books.toscrape.com//media/cache/ff/e8/f...</td>\n",
       "    </tr>\n",
       "    <tr>\n",
       "      <th>13</th>\n",
       "      <td>Mama Tried: Traditional Italian ...</td>\n",
       "      <td>Â£14.02</td>\n",
       "      <td>Four</td>\n",
       "      <td>http://books.toscrape.com//media/cache/10/c6/1...</td>\n",
       "    </tr>\n",
       "    <tr>\n",
       "      <th>14</th>\n",
       "      <td>Lumberjanes, Vol. 2: Friendship ...</td>\n",
       "      <td>Â£46.91</td>\n",
       "      <td>Two</td>\n",
       "      <td>http://books.toscrape.com//media/cache/d3/15/d...</td>\n",
       "    </tr>\n",
       "    <tr>\n",
       "      <th>15</th>\n",
       "      <td>Lumberjanes, Vol. 1: Beware ...</td>\n",
       "      <td>Â£45.61</td>\n",
       "      <td>Three</td>\n",
       "      <td>http://books.toscrape.com//media/cache/7e/a0/7...</td>\n",
       "    </tr>\n",
       "    <tr>\n",
       "      <th>16</th>\n",
       "      <td>Lumberjanes Vol. 3: A ...</td>\n",
       "      <td>Â£19.92</td>\n",
       "      <td>Two</td>\n",
       "      <td>http://books.toscrape.com//media/cache/5f/b1/5...</td>\n",
       "    </tr>\n",
       "    <tr>\n",
       "      <th>17</th>\n",
       "      <td>Layered: Baking, Building, and ...</td>\n",
       "      <td>Â£40.11</td>\n",
       "      <td>One</td>\n",
       "      <td>http://books.toscrape.com//media/cache/98/d1/9...</td>\n",
       "    </tr>\n",
       "    <tr>\n",
       "      <th>18</th>\n",
       "      <td>Judo: Seven Steps to ...</td>\n",
       "      <td>Â£53.90</td>\n",
       "      <td>Two</td>\n",
       "      <td>http://books.toscrape.com//media/cache/5f/52/5...</td>\n",
       "    </tr>\n",
       "    <tr>\n",
       "      <th>19</th>\n",
       "      <td>Join</td>\n",
       "      <td>Â£35.67</td>\n",
       "      <td>Five</td>\n",
       "      <td>http://books.toscrape.com//media/cache/93/63/9...</td>\n",
       "    </tr>\n",
       "    <tr>\n",
       "      <th>20</th>\n",
       "      <td>In the Country We ...</td>\n",
       "      <td>Â£22.00</td>\n",
       "      <td>Four</td>\n",
       "      <td>http://books.toscrape.com//media/cache/fe/ea/f...</td>\n",
       "    </tr>\n",
       "  </tbody>\n",
       "</table>\n",
       "</div>"
      ],
      "text/plain": [
       "                                             Title    Price Ratings  \\\n",
       "1           Princess Jellyfish 2-in-1 Omnibus, ...  Â£13.61    Five   \n",
       "2          Princess Between Worlds (Wide-Awake ...  Â£13.34    Five   \n",
       "3                          Pop Gun War, Volume ...  Â£18.97     One   \n",
       "4   Political Suicide: Missteps, Peccadilloes, ...  Â£36.28     Two   \n",
       "5                                         Patience  Â£10.16   Three   \n",
       "6                           Outcast, Vol. 1: A ...  Â£15.44    Four   \n",
       "7              orange: The Complete Collection ...  Â£48.41     One   \n",
       "8                    Online Marketing for Busy ...  Â£46.35     One   \n",
       "9                              On a Midnight Clear  Â£14.07   Three   \n",
       "10                               Obsidian (Lux #1)  Â£14.86     Two   \n",
       "11                   My Paris Kitchen: Recipes ...  Â£33.37     Two   \n",
       "12                               Masks and Shadows  Â£56.40     Two   \n",
       "13             Mama Tried: Traditional Italian ...  Â£14.02    Four   \n",
       "14             Lumberjanes, Vol. 2: Friendship ...  Â£46.91     Two   \n",
       "15                 Lumberjanes, Vol. 1: Beware ...  Â£45.61   Three   \n",
       "16                       Lumberjanes Vol. 3: A ...  Â£19.92     Two   \n",
       "17              Layered: Baking, Building, and ...  Â£40.11     One   \n",
       "18                        Judo: Seven Steps to ...  Â£53.90     Two   \n",
       "19                                            Join  Â£35.67    Five   \n",
       "20                           In the Country We ...  Â£22.00    Four   \n",
       "\n",
       "                                                  URL  \n",
       "1   http://books.toscrape.com//media/cache/78/0b/7...  \n",
       "2   http://books.toscrape.com//media/cache/b7/e8/b...  \n",
       "3   http://books.toscrape.com//media/cache/c8/2f/c...  \n",
       "4   http://books.toscrape.com//media/cache/64/44/6...  \n",
       "5   http://books.toscrape.com//media/cache/01/72/0...  \n",
       "6   http://books.toscrape.com//media/cache/cb/00/c...  \n",
       "7   http://books.toscrape.com//media/cache/03/88/0...  \n",
       "8   http://books.toscrape.com//media/cache/ea/9b/e...  \n",
       "9   http://books.toscrape.com//media/cache/a1/14/a...  \n",
       "10  http://books.toscrape.com//media/cache/fc/72/f...  \n",
       "11  http://books.toscrape.com//media/cache/f5/65/f...  \n",
       "12  http://books.toscrape.com//media/cache/ff/e8/f...  \n",
       "13  http://books.toscrape.com//media/cache/10/c6/1...  \n",
       "14  http://books.toscrape.com//media/cache/d3/15/d...  \n",
       "15  http://books.toscrape.com//media/cache/7e/a0/7...  \n",
       "16  http://books.toscrape.com//media/cache/5f/b1/5...  \n",
       "17  http://books.toscrape.com//media/cache/98/d1/9...  \n",
       "18  http://books.toscrape.com//media/cache/5f/52/5...  \n",
       "19  http://books.toscrape.com//media/cache/93/63/9...  \n",
       "20  http://books.toscrape.com//media/cache/fe/ea/f...  "
      ]
     },
     "execution_count": 45,
     "metadata": {},
     "output_type": "execute_result"
    }
   ],
   "source": [
    "df.index+=1\n",
    "df"
   ]
  },
  {
   "cell_type": "code",
   "execution_count": 46,
   "metadata": {},
   "outputs": [],
   "source": [
    "df['Price']=df['Price'].str.replace('Â£','')"
   ]
  },
  {
   "cell_type": "code",
   "execution_count": 47,
   "metadata": {},
   "outputs": [
    {
     "data": {
      "text/html": [
       "<div>\n",
       "<style scoped>\n",
       "    .dataframe tbody tr th:only-of-type {\n",
       "        vertical-align: middle;\n",
       "    }\n",
       "\n",
       "    .dataframe tbody tr th {\n",
       "        vertical-align: top;\n",
       "    }\n",
       "\n",
       "    .dataframe thead th {\n",
       "        text-align: right;\n",
       "    }\n",
       "</style>\n",
       "<table border=\"1\" class=\"dataframe\">\n",
       "  <thead>\n",
       "    <tr style=\"text-align: right;\">\n",
       "      <th></th>\n",
       "      <th>Title</th>\n",
       "      <th>Price</th>\n",
       "      <th>Ratings</th>\n",
       "      <th>URL</th>\n",
       "    </tr>\n",
       "  </thead>\n",
       "  <tbody>\n",
       "    <tr>\n",
       "      <th>1</th>\n",
       "      <td>Princess Jellyfish 2-in-1 Omnibus, ...</td>\n",
       "      <td>13.61</td>\n",
       "      <td>Five</td>\n",
       "      <td>http://books.toscrape.com//media/cache/78/0b/7...</td>\n",
       "    </tr>\n",
       "    <tr>\n",
       "      <th>2</th>\n",
       "      <td>Princess Between Worlds (Wide-Awake ...</td>\n",
       "      <td>13.34</td>\n",
       "      <td>Five</td>\n",
       "      <td>http://books.toscrape.com//media/cache/b7/e8/b...</td>\n",
       "    </tr>\n",
       "    <tr>\n",
       "      <th>3</th>\n",
       "      <td>Pop Gun War, Volume ...</td>\n",
       "      <td>18.97</td>\n",
       "      <td>One</td>\n",
       "      <td>http://books.toscrape.com//media/cache/c8/2f/c...</td>\n",
       "    </tr>\n",
       "    <tr>\n",
       "      <th>4</th>\n",
       "      <td>Political Suicide: Missteps, Peccadilloes, ...</td>\n",
       "      <td>36.28</td>\n",
       "      <td>Two</td>\n",
       "      <td>http://books.toscrape.com//media/cache/64/44/6...</td>\n",
       "    </tr>\n",
       "    <tr>\n",
       "      <th>5</th>\n",
       "      <td>Patience</td>\n",
       "      <td>10.16</td>\n",
       "      <td>Three</td>\n",
       "      <td>http://books.toscrape.com//media/cache/01/72/0...</td>\n",
       "    </tr>\n",
       "    <tr>\n",
       "      <th>6</th>\n",
       "      <td>Outcast, Vol. 1: A ...</td>\n",
       "      <td>15.44</td>\n",
       "      <td>Four</td>\n",
       "      <td>http://books.toscrape.com//media/cache/cb/00/c...</td>\n",
       "    </tr>\n",
       "    <tr>\n",
       "      <th>7</th>\n",
       "      <td>orange: The Complete Collection ...</td>\n",
       "      <td>48.41</td>\n",
       "      <td>One</td>\n",
       "      <td>http://books.toscrape.com//media/cache/03/88/0...</td>\n",
       "    </tr>\n",
       "    <tr>\n",
       "      <th>8</th>\n",
       "      <td>Online Marketing for Busy ...</td>\n",
       "      <td>46.35</td>\n",
       "      <td>One</td>\n",
       "      <td>http://books.toscrape.com//media/cache/ea/9b/e...</td>\n",
       "    </tr>\n",
       "    <tr>\n",
       "      <th>9</th>\n",
       "      <td>On a Midnight Clear</td>\n",
       "      <td>14.07</td>\n",
       "      <td>Three</td>\n",
       "      <td>http://books.toscrape.com//media/cache/a1/14/a...</td>\n",
       "    </tr>\n",
       "    <tr>\n",
       "      <th>10</th>\n",
       "      <td>Obsidian (Lux #1)</td>\n",
       "      <td>14.86</td>\n",
       "      <td>Two</td>\n",
       "      <td>http://books.toscrape.com//media/cache/fc/72/f...</td>\n",
       "    </tr>\n",
       "    <tr>\n",
       "      <th>11</th>\n",
       "      <td>My Paris Kitchen: Recipes ...</td>\n",
       "      <td>33.37</td>\n",
       "      <td>Two</td>\n",
       "      <td>http://books.toscrape.com//media/cache/f5/65/f...</td>\n",
       "    </tr>\n",
       "    <tr>\n",
       "      <th>12</th>\n",
       "      <td>Masks and Shadows</td>\n",
       "      <td>56.40</td>\n",
       "      <td>Two</td>\n",
       "      <td>http://books.toscrape.com//media/cache/ff/e8/f...</td>\n",
       "    </tr>\n",
       "    <tr>\n",
       "      <th>13</th>\n",
       "      <td>Mama Tried: Traditional Italian ...</td>\n",
       "      <td>14.02</td>\n",
       "      <td>Four</td>\n",
       "      <td>http://books.toscrape.com//media/cache/10/c6/1...</td>\n",
       "    </tr>\n",
       "    <tr>\n",
       "      <th>14</th>\n",
       "      <td>Lumberjanes, Vol. 2: Friendship ...</td>\n",
       "      <td>46.91</td>\n",
       "      <td>Two</td>\n",
       "      <td>http://books.toscrape.com//media/cache/d3/15/d...</td>\n",
       "    </tr>\n",
       "    <tr>\n",
       "      <th>15</th>\n",
       "      <td>Lumberjanes, Vol. 1: Beware ...</td>\n",
       "      <td>45.61</td>\n",
       "      <td>Three</td>\n",
       "      <td>http://books.toscrape.com//media/cache/7e/a0/7...</td>\n",
       "    </tr>\n",
       "    <tr>\n",
       "      <th>16</th>\n",
       "      <td>Lumberjanes Vol. 3: A ...</td>\n",
       "      <td>19.92</td>\n",
       "      <td>Two</td>\n",
       "      <td>http://books.toscrape.com//media/cache/5f/b1/5...</td>\n",
       "    </tr>\n",
       "    <tr>\n",
       "      <th>17</th>\n",
       "      <td>Layered: Baking, Building, and ...</td>\n",
       "      <td>40.11</td>\n",
       "      <td>One</td>\n",
       "      <td>http://books.toscrape.com//media/cache/98/d1/9...</td>\n",
       "    </tr>\n",
       "    <tr>\n",
       "      <th>18</th>\n",
       "      <td>Judo: Seven Steps to ...</td>\n",
       "      <td>53.90</td>\n",
       "      <td>Two</td>\n",
       "      <td>http://books.toscrape.com//media/cache/5f/52/5...</td>\n",
       "    </tr>\n",
       "    <tr>\n",
       "      <th>19</th>\n",
       "      <td>Join</td>\n",
       "      <td>35.67</td>\n",
       "      <td>Five</td>\n",
       "      <td>http://books.toscrape.com//media/cache/93/63/9...</td>\n",
       "    </tr>\n",
       "    <tr>\n",
       "      <th>20</th>\n",
       "      <td>In the Country We ...</td>\n",
       "      <td>22.00</td>\n",
       "      <td>Four</td>\n",
       "      <td>http://books.toscrape.com//media/cache/fe/ea/f...</td>\n",
       "    </tr>\n",
       "  </tbody>\n",
       "</table>\n",
       "</div>"
      ],
      "text/plain": [
       "                                             Title  Price Ratings  \\\n",
       "1           Princess Jellyfish 2-in-1 Omnibus, ...  13.61    Five   \n",
       "2          Princess Between Worlds (Wide-Awake ...  13.34    Five   \n",
       "3                          Pop Gun War, Volume ...  18.97     One   \n",
       "4   Political Suicide: Missteps, Peccadilloes, ...  36.28     Two   \n",
       "5                                         Patience  10.16   Three   \n",
       "6                           Outcast, Vol. 1: A ...  15.44    Four   \n",
       "7              orange: The Complete Collection ...  48.41     One   \n",
       "8                    Online Marketing for Busy ...  46.35     One   \n",
       "9                              On a Midnight Clear  14.07   Three   \n",
       "10                               Obsidian (Lux #1)  14.86     Two   \n",
       "11                   My Paris Kitchen: Recipes ...  33.37     Two   \n",
       "12                               Masks and Shadows  56.40     Two   \n",
       "13             Mama Tried: Traditional Italian ...  14.02    Four   \n",
       "14             Lumberjanes, Vol. 2: Friendship ...  46.91     Two   \n",
       "15                 Lumberjanes, Vol. 1: Beware ...  45.61   Three   \n",
       "16                       Lumberjanes Vol. 3: A ...  19.92     Two   \n",
       "17              Layered: Baking, Building, and ...  40.11     One   \n",
       "18                        Judo: Seven Steps to ...  53.90     Two   \n",
       "19                                            Join  35.67    Five   \n",
       "20                           In the Country We ...  22.00    Four   \n",
       "\n",
       "                                                  URL  \n",
       "1   http://books.toscrape.com//media/cache/78/0b/7...  \n",
       "2   http://books.toscrape.com//media/cache/b7/e8/b...  \n",
       "3   http://books.toscrape.com//media/cache/c8/2f/c...  \n",
       "4   http://books.toscrape.com//media/cache/64/44/6...  \n",
       "5   http://books.toscrape.com//media/cache/01/72/0...  \n",
       "6   http://books.toscrape.com//media/cache/cb/00/c...  \n",
       "7   http://books.toscrape.com//media/cache/03/88/0...  \n",
       "8   http://books.toscrape.com//media/cache/ea/9b/e...  \n",
       "9   http://books.toscrape.com//media/cache/a1/14/a...  \n",
       "10  http://books.toscrape.com//media/cache/fc/72/f...  \n",
       "11  http://books.toscrape.com//media/cache/f5/65/f...  \n",
       "12  http://books.toscrape.com//media/cache/ff/e8/f...  \n",
       "13  http://books.toscrape.com//media/cache/10/c6/1...  \n",
       "14  http://books.toscrape.com//media/cache/d3/15/d...  \n",
       "15  http://books.toscrape.com//media/cache/7e/a0/7...  \n",
       "16  http://books.toscrape.com//media/cache/5f/b1/5...  \n",
       "17  http://books.toscrape.com//media/cache/98/d1/9...  \n",
       "18  http://books.toscrape.com//media/cache/5f/52/5...  \n",
       "19  http://books.toscrape.com//media/cache/93/63/9...  \n",
       "20  http://books.toscrape.com//media/cache/fe/ea/f...  "
      ]
     },
     "execution_count": 47,
     "metadata": {},
     "output_type": "execute_result"
    }
   ],
   "source": [
    "df"
   ]
  },
  {
   "cell_type": "code",
   "execution_count": 48,
   "metadata": {},
   "outputs": [
    {
     "data": {
      "text/html": [
       "<div>\n",
       "<style scoped>\n",
       "    .dataframe tbody tr th:only-of-type {\n",
       "        vertical-align: middle;\n",
       "    }\n",
       "\n",
       "    .dataframe tbody tr th {\n",
       "        vertical-align: top;\n",
       "    }\n",
       "\n",
       "    .dataframe thead th {\n",
       "        text-align: right;\n",
       "    }\n",
       "</style>\n",
       "<table border=\"1\" class=\"dataframe\">\n",
       "  <thead>\n",
       "    <tr style=\"text-align: right;\">\n",
       "      <th></th>\n",
       "      <th>Title</th>\n",
       "      <th>Price</th>\n",
       "      <th>Ratings</th>\n",
       "      <th>URL</th>\n",
       "    </tr>\n",
       "  </thead>\n",
       "  <tbody>\n",
       "    <tr>\n",
       "      <th>12</th>\n",
       "      <td>Masks and Shadows</td>\n",
       "      <td>56.40</td>\n",
       "      <td>Two</td>\n",
       "      <td>http://books.toscrape.com//media/cache/ff/e8/f...</td>\n",
       "    </tr>\n",
       "    <tr>\n",
       "      <th>18</th>\n",
       "      <td>Judo: Seven Steps to ...</td>\n",
       "      <td>53.90</td>\n",
       "      <td>Two</td>\n",
       "      <td>http://books.toscrape.com//media/cache/5f/52/5...</td>\n",
       "    </tr>\n",
       "    <tr>\n",
       "      <th>7</th>\n",
       "      <td>orange: The Complete Collection ...</td>\n",
       "      <td>48.41</td>\n",
       "      <td>One</td>\n",
       "      <td>http://books.toscrape.com//media/cache/03/88/0...</td>\n",
       "    </tr>\n",
       "    <tr>\n",
       "      <th>14</th>\n",
       "      <td>Lumberjanes, Vol. 2: Friendship ...</td>\n",
       "      <td>46.91</td>\n",
       "      <td>Two</td>\n",
       "      <td>http://books.toscrape.com//media/cache/d3/15/d...</td>\n",
       "    </tr>\n",
       "    <tr>\n",
       "      <th>8</th>\n",
       "      <td>Online Marketing for Busy ...</td>\n",
       "      <td>46.35</td>\n",
       "      <td>One</td>\n",
       "      <td>http://books.toscrape.com//media/cache/ea/9b/e...</td>\n",
       "    </tr>\n",
       "    <tr>\n",
       "      <th>15</th>\n",
       "      <td>Lumberjanes, Vol. 1: Beware ...</td>\n",
       "      <td>45.61</td>\n",
       "      <td>Three</td>\n",
       "      <td>http://books.toscrape.com//media/cache/7e/a0/7...</td>\n",
       "    </tr>\n",
       "    <tr>\n",
       "      <th>17</th>\n",
       "      <td>Layered: Baking, Building, and ...</td>\n",
       "      <td>40.11</td>\n",
       "      <td>One</td>\n",
       "      <td>http://books.toscrape.com//media/cache/98/d1/9...</td>\n",
       "    </tr>\n",
       "    <tr>\n",
       "      <th>4</th>\n",
       "      <td>Political Suicide: Missteps, Peccadilloes, ...</td>\n",
       "      <td>36.28</td>\n",
       "      <td>Two</td>\n",
       "      <td>http://books.toscrape.com//media/cache/64/44/6...</td>\n",
       "    </tr>\n",
       "    <tr>\n",
       "      <th>19</th>\n",
       "      <td>Join</td>\n",
       "      <td>35.67</td>\n",
       "      <td>Five</td>\n",
       "      <td>http://books.toscrape.com//media/cache/93/63/9...</td>\n",
       "    </tr>\n",
       "    <tr>\n",
       "      <th>11</th>\n",
       "      <td>My Paris Kitchen: Recipes ...</td>\n",
       "      <td>33.37</td>\n",
       "      <td>Two</td>\n",
       "      <td>http://books.toscrape.com//media/cache/f5/65/f...</td>\n",
       "    </tr>\n",
       "    <tr>\n",
       "      <th>20</th>\n",
       "      <td>In the Country We ...</td>\n",
       "      <td>22.00</td>\n",
       "      <td>Four</td>\n",
       "      <td>http://books.toscrape.com//media/cache/fe/ea/f...</td>\n",
       "    </tr>\n",
       "    <tr>\n",
       "      <th>16</th>\n",
       "      <td>Lumberjanes Vol. 3: A ...</td>\n",
       "      <td>19.92</td>\n",
       "      <td>Two</td>\n",
       "      <td>http://books.toscrape.com//media/cache/5f/b1/5...</td>\n",
       "    </tr>\n",
       "    <tr>\n",
       "      <th>3</th>\n",
       "      <td>Pop Gun War, Volume ...</td>\n",
       "      <td>18.97</td>\n",
       "      <td>One</td>\n",
       "      <td>http://books.toscrape.com//media/cache/c8/2f/c...</td>\n",
       "    </tr>\n",
       "    <tr>\n",
       "      <th>6</th>\n",
       "      <td>Outcast, Vol. 1: A ...</td>\n",
       "      <td>15.44</td>\n",
       "      <td>Four</td>\n",
       "      <td>http://books.toscrape.com//media/cache/cb/00/c...</td>\n",
       "    </tr>\n",
       "    <tr>\n",
       "      <th>10</th>\n",
       "      <td>Obsidian (Lux #1)</td>\n",
       "      <td>14.86</td>\n",
       "      <td>Two</td>\n",
       "      <td>http://books.toscrape.com//media/cache/fc/72/f...</td>\n",
       "    </tr>\n",
       "    <tr>\n",
       "      <th>9</th>\n",
       "      <td>On a Midnight Clear</td>\n",
       "      <td>14.07</td>\n",
       "      <td>Three</td>\n",
       "      <td>http://books.toscrape.com//media/cache/a1/14/a...</td>\n",
       "    </tr>\n",
       "    <tr>\n",
       "      <th>13</th>\n",
       "      <td>Mama Tried: Traditional Italian ...</td>\n",
       "      <td>14.02</td>\n",
       "      <td>Four</td>\n",
       "      <td>http://books.toscrape.com//media/cache/10/c6/1...</td>\n",
       "    </tr>\n",
       "    <tr>\n",
       "      <th>1</th>\n",
       "      <td>Princess Jellyfish 2-in-1 Omnibus, ...</td>\n",
       "      <td>13.61</td>\n",
       "      <td>Five</td>\n",
       "      <td>http://books.toscrape.com//media/cache/78/0b/7...</td>\n",
       "    </tr>\n",
       "    <tr>\n",
       "      <th>2</th>\n",
       "      <td>Princess Between Worlds (Wide-Awake ...</td>\n",
       "      <td>13.34</td>\n",
       "      <td>Five</td>\n",
       "      <td>http://books.toscrape.com//media/cache/b7/e8/b...</td>\n",
       "    </tr>\n",
       "    <tr>\n",
       "      <th>5</th>\n",
       "      <td>Patience</td>\n",
       "      <td>10.16</td>\n",
       "      <td>Three</td>\n",
       "      <td>http://books.toscrape.com//media/cache/01/72/0...</td>\n",
       "    </tr>\n",
       "  </tbody>\n",
       "</table>\n",
       "</div>"
      ],
      "text/plain": [
       "                                             Title  Price Ratings  \\\n",
       "12                               Masks and Shadows  56.40     Two   \n",
       "18                        Judo: Seven Steps to ...  53.90     Two   \n",
       "7              orange: The Complete Collection ...  48.41     One   \n",
       "14             Lumberjanes, Vol. 2: Friendship ...  46.91     Two   \n",
       "8                    Online Marketing for Busy ...  46.35     One   \n",
       "15                 Lumberjanes, Vol. 1: Beware ...  45.61   Three   \n",
       "17              Layered: Baking, Building, and ...  40.11     One   \n",
       "4   Political Suicide: Missteps, Peccadilloes, ...  36.28     Two   \n",
       "19                                            Join  35.67    Five   \n",
       "11                   My Paris Kitchen: Recipes ...  33.37     Two   \n",
       "20                           In the Country We ...  22.00    Four   \n",
       "16                       Lumberjanes Vol. 3: A ...  19.92     Two   \n",
       "3                          Pop Gun War, Volume ...  18.97     One   \n",
       "6                           Outcast, Vol. 1: A ...  15.44    Four   \n",
       "10                               Obsidian (Lux #1)  14.86     Two   \n",
       "9                              On a Midnight Clear  14.07   Three   \n",
       "13             Mama Tried: Traditional Italian ...  14.02    Four   \n",
       "1           Princess Jellyfish 2-in-1 Omnibus, ...  13.61    Five   \n",
       "2          Princess Between Worlds (Wide-Awake ...  13.34    Five   \n",
       "5                                         Patience  10.16   Three   \n",
       "\n",
       "                                                  URL  \n",
       "12  http://books.toscrape.com//media/cache/ff/e8/f...  \n",
       "18  http://books.toscrape.com//media/cache/5f/52/5...  \n",
       "7   http://books.toscrape.com//media/cache/03/88/0...  \n",
       "14  http://books.toscrape.com//media/cache/d3/15/d...  \n",
       "8   http://books.toscrape.com//media/cache/ea/9b/e...  \n",
       "15  http://books.toscrape.com//media/cache/7e/a0/7...  \n",
       "17  http://books.toscrape.com//media/cache/98/d1/9...  \n",
       "4   http://books.toscrape.com//media/cache/64/44/6...  \n",
       "19  http://books.toscrape.com//media/cache/93/63/9...  \n",
       "11  http://books.toscrape.com//media/cache/f5/65/f...  \n",
       "20  http://books.toscrape.com//media/cache/fe/ea/f...  \n",
       "16  http://books.toscrape.com//media/cache/5f/b1/5...  \n",
       "3   http://books.toscrape.com//media/cache/c8/2f/c...  \n",
       "6   http://books.toscrape.com//media/cache/cb/00/c...  \n",
       "10  http://books.toscrape.com//media/cache/fc/72/f...  \n",
       "9   http://books.toscrape.com//media/cache/a1/14/a...  \n",
       "13  http://books.toscrape.com//media/cache/10/c6/1...  \n",
       "1   http://books.toscrape.com//media/cache/78/0b/7...  \n",
       "2   http://books.toscrape.com//media/cache/b7/e8/b...  \n",
       "5   http://books.toscrape.com//media/cache/01/72/0...  "
      ]
     },
     "execution_count": 48,
     "metadata": {},
     "output_type": "execute_result"
    }
   ],
   "source": [
    "df.sort_values(by = 'Price' , ascending = False)"
   ]
  },
  {
   "cell_type": "code",
   "execution_count": 49,
   "metadata": {},
   "outputs": [],
   "source": [
    "df['Ratings'] = df['Ratings'].replace({'Three': 3,\n",
    "                                      'One':1,\n",
    "                                      'Two': 2,\n",
    "                                      'Four':4,\n",
    "                                      'Five':5})"
   ]
  },
  {
   "cell_type": "code",
   "execution_count": 50,
   "metadata": {},
   "outputs": [
    {
     "data": {
      "text/html": [
       "<div>\n",
       "<style scoped>\n",
       "    .dataframe tbody tr th:only-of-type {\n",
       "        vertical-align: middle;\n",
       "    }\n",
       "\n",
       "    .dataframe tbody tr th {\n",
       "        vertical-align: top;\n",
       "    }\n",
       "\n",
       "    .dataframe thead th {\n",
       "        text-align: right;\n",
       "    }\n",
       "</style>\n",
       "<table border=\"1\" class=\"dataframe\">\n",
       "  <thead>\n",
       "    <tr style=\"text-align: right;\">\n",
       "      <th></th>\n",
       "      <th>Title</th>\n",
       "      <th>Price</th>\n",
       "      <th>Ratings</th>\n",
       "      <th>URL</th>\n",
       "    </tr>\n",
       "  </thead>\n",
       "  <tbody>\n",
       "    <tr>\n",
       "      <th>1</th>\n",
       "      <td>Princess Jellyfish 2-in-1 Omnibus, ...</td>\n",
       "      <td>13.61</td>\n",
       "      <td>5</td>\n",
       "      <td>http://books.toscrape.com//media/cache/78/0b/7...</td>\n",
       "    </tr>\n",
       "    <tr>\n",
       "      <th>2</th>\n",
       "      <td>Princess Between Worlds (Wide-Awake ...</td>\n",
       "      <td>13.34</td>\n",
       "      <td>5</td>\n",
       "      <td>http://books.toscrape.com//media/cache/b7/e8/b...</td>\n",
       "    </tr>\n",
       "    <tr>\n",
       "      <th>3</th>\n",
       "      <td>Pop Gun War, Volume ...</td>\n",
       "      <td>18.97</td>\n",
       "      <td>1</td>\n",
       "      <td>http://books.toscrape.com//media/cache/c8/2f/c...</td>\n",
       "    </tr>\n",
       "    <tr>\n",
       "      <th>4</th>\n",
       "      <td>Political Suicide: Missteps, Peccadilloes, ...</td>\n",
       "      <td>36.28</td>\n",
       "      <td>2</td>\n",
       "      <td>http://books.toscrape.com//media/cache/64/44/6...</td>\n",
       "    </tr>\n",
       "    <tr>\n",
       "      <th>5</th>\n",
       "      <td>Patience</td>\n",
       "      <td>10.16</td>\n",
       "      <td>3</td>\n",
       "      <td>http://books.toscrape.com//media/cache/01/72/0...</td>\n",
       "    </tr>\n",
       "    <tr>\n",
       "      <th>6</th>\n",
       "      <td>Outcast, Vol. 1: A ...</td>\n",
       "      <td>15.44</td>\n",
       "      <td>4</td>\n",
       "      <td>http://books.toscrape.com//media/cache/cb/00/c...</td>\n",
       "    </tr>\n",
       "    <tr>\n",
       "      <th>7</th>\n",
       "      <td>orange: The Complete Collection ...</td>\n",
       "      <td>48.41</td>\n",
       "      <td>1</td>\n",
       "      <td>http://books.toscrape.com//media/cache/03/88/0...</td>\n",
       "    </tr>\n",
       "    <tr>\n",
       "      <th>8</th>\n",
       "      <td>Online Marketing for Busy ...</td>\n",
       "      <td>46.35</td>\n",
       "      <td>1</td>\n",
       "      <td>http://books.toscrape.com//media/cache/ea/9b/e...</td>\n",
       "    </tr>\n",
       "    <tr>\n",
       "      <th>9</th>\n",
       "      <td>On a Midnight Clear</td>\n",
       "      <td>14.07</td>\n",
       "      <td>3</td>\n",
       "      <td>http://books.toscrape.com//media/cache/a1/14/a...</td>\n",
       "    </tr>\n",
       "    <tr>\n",
       "      <th>10</th>\n",
       "      <td>Obsidian (Lux #1)</td>\n",
       "      <td>14.86</td>\n",
       "      <td>2</td>\n",
       "      <td>http://books.toscrape.com//media/cache/fc/72/f...</td>\n",
       "    </tr>\n",
       "    <tr>\n",
       "      <th>11</th>\n",
       "      <td>My Paris Kitchen: Recipes ...</td>\n",
       "      <td>33.37</td>\n",
       "      <td>2</td>\n",
       "      <td>http://books.toscrape.com//media/cache/f5/65/f...</td>\n",
       "    </tr>\n",
       "    <tr>\n",
       "      <th>12</th>\n",
       "      <td>Masks and Shadows</td>\n",
       "      <td>56.40</td>\n",
       "      <td>2</td>\n",
       "      <td>http://books.toscrape.com//media/cache/ff/e8/f...</td>\n",
       "    </tr>\n",
       "    <tr>\n",
       "      <th>13</th>\n",
       "      <td>Mama Tried: Traditional Italian ...</td>\n",
       "      <td>14.02</td>\n",
       "      <td>4</td>\n",
       "      <td>http://books.toscrape.com//media/cache/10/c6/1...</td>\n",
       "    </tr>\n",
       "    <tr>\n",
       "      <th>14</th>\n",
       "      <td>Lumberjanes, Vol. 2: Friendship ...</td>\n",
       "      <td>46.91</td>\n",
       "      <td>2</td>\n",
       "      <td>http://books.toscrape.com//media/cache/d3/15/d...</td>\n",
       "    </tr>\n",
       "    <tr>\n",
       "      <th>15</th>\n",
       "      <td>Lumberjanes, Vol. 1: Beware ...</td>\n",
       "      <td>45.61</td>\n",
       "      <td>3</td>\n",
       "      <td>http://books.toscrape.com//media/cache/7e/a0/7...</td>\n",
       "    </tr>\n",
       "    <tr>\n",
       "      <th>16</th>\n",
       "      <td>Lumberjanes Vol. 3: A ...</td>\n",
       "      <td>19.92</td>\n",
       "      <td>2</td>\n",
       "      <td>http://books.toscrape.com//media/cache/5f/b1/5...</td>\n",
       "    </tr>\n",
       "    <tr>\n",
       "      <th>17</th>\n",
       "      <td>Layered: Baking, Building, and ...</td>\n",
       "      <td>40.11</td>\n",
       "      <td>1</td>\n",
       "      <td>http://books.toscrape.com//media/cache/98/d1/9...</td>\n",
       "    </tr>\n",
       "    <tr>\n",
       "      <th>18</th>\n",
       "      <td>Judo: Seven Steps to ...</td>\n",
       "      <td>53.90</td>\n",
       "      <td>2</td>\n",
       "      <td>http://books.toscrape.com//media/cache/5f/52/5...</td>\n",
       "    </tr>\n",
       "    <tr>\n",
       "      <th>19</th>\n",
       "      <td>Join</td>\n",
       "      <td>35.67</td>\n",
       "      <td>5</td>\n",
       "      <td>http://books.toscrape.com//media/cache/93/63/9...</td>\n",
       "    </tr>\n",
       "    <tr>\n",
       "      <th>20</th>\n",
       "      <td>In the Country We ...</td>\n",
       "      <td>22.00</td>\n",
       "      <td>4</td>\n",
       "      <td>http://books.toscrape.com//media/cache/fe/ea/f...</td>\n",
       "    </tr>\n",
       "  </tbody>\n",
       "</table>\n",
       "</div>"
      ],
      "text/plain": [
       "                                             Title  Price  Ratings  \\\n",
       "1           Princess Jellyfish 2-in-1 Omnibus, ...  13.61        5   \n",
       "2          Princess Between Worlds (Wide-Awake ...  13.34        5   \n",
       "3                          Pop Gun War, Volume ...  18.97        1   \n",
       "4   Political Suicide: Missteps, Peccadilloes, ...  36.28        2   \n",
       "5                                         Patience  10.16        3   \n",
       "6                           Outcast, Vol. 1: A ...  15.44        4   \n",
       "7              orange: The Complete Collection ...  48.41        1   \n",
       "8                    Online Marketing for Busy ...  46.35        1   \n",
       "9                              On a Midnight Clear  14.07        3   \n",
       "10                               Obsidian (Lux #1)  14.86        2   \n",
       "11                   My Paris Kitchen: Recipes ...  33.37        2   \n",
       "12                               Masks and Shadows  56.40        2   \n",
       "13             Mama Tried: Traditional Italian ...  14.02        4   \n",
       "14             Lumberjanes, Vol. 2: Friendship ...  46.91        2   \n",
       "15                 Lumberjanes, Vol. 1: Beware ...  45.61        3   \n",
       "16                       Lumberjanes Vol. 3: A ...  19.92        2   \n",
       "17              Layered: Baking, Building, and ...  40.11        1   \n",
       "18                        Judo: Seven Steps to ...  53.90        2   \n",
       "19                                            Join  35.67        5   \n",
       "20                           In the Country We ...  22.00        4   \n",
       "\n",
       "                                                  URL  \n",
       "1   http://books.toscrape.com//media/cache/78/0b/7...  \n",
       "2   http://books.toscrape.com//media/cache/b7/e8/b...  \n",
       "3   http://books.toscrape.com//media/cache/c8/2f/c...  \n",
       "4   http://books.toscrape.com//media/cache/64/44/6...  \n",
       "5   http://books.toscrape.com//media/cache/01/72/0...  \n",
       "6   http://books.toscrape.com//media/cache/cb/00/c...  \n",
       "7   http://books.toscrape.com//media/cache/03/88/0...  \n",
       "8   http://books.toscrape.com//media/cache/ea/9b/e...  \n",
       "9   http://books.toscrape.com//media/cache/a1/14/a...  \n",
       "10  http://books.toscrape.com//media/cache/fc/72/f...  \n",
       "11  http://books.toscrape.com//media/cache/f5/65/f...  \n",
       "12  http://books.toscrape.com//media/cache/ff/e8/f...  \n",
       "13  http://books.toscrape.com//media/cache/10/c6/1...  \n",
       "14  http://books.toscrape.com//media/cache/d3/15/d...  \n",
       "15  http://books.toscrape.com//media/cache/7e/a0/7...  \n",
       "16  http://books.toscrape.com//media/cache/5f/b1/5...  \n",
       "17  http://books.toscrape.com//media/cache/98/d1/9...  \n",
       "18  http://books.toscrape.com//media/cache/5f/52/5...  \n",
       "19  http://books.toscrape.com//media/cache/93/63/9...  \n",
       "20  http://books.toscrape.com//media/cache/fe/ea/f...  "
      ]
     },
     "execution_count": 50,
     "metadata": {},
     "output_type": "execute_result"
    }
   ],
   "source": [
    "df"
   ]
  },
  {
   "cell_type": "code",
   "execution_count": 51,
   "metadata": {},
   "outputs": [
    {
     "data": {
      "text/plain": [
       "Title      object\n",
       "Price      object\n",
       "Ratings     int64\n",
       "URL        object\n",
       "dtype: object"
      ]
     },
     "execution_count": 51,
     "metadata": {},
     "output_type": "execute_result"
    }
   ],
   "source": [
    "df.dtypes"
   ]
  },
  {
   "cell_type": "code",
   "execution_count": 52,
   "metadata": {},
   "outputs": [
    {
     "data": {
      "text/plain": [
       "Title      False\n",
       "Price      False\n",
       "Ratings    False\n",
       "URL        False\n",
       "dtype: bool"
      ]
     },
     "execution_count": 52,
     "metadata": {},
     "output_type": "execute_result"
    }
   ],
   "source": [
    "df.isna().any()"
   ]
  },
  {
   "cell_type": "code",
   "execution_count": 53,
   "metadata": {},
   "outputs": [],
   "source": [
    "df['Price'] = df['Price'].astype(float)"
   ]
  },
  {
   "cell_type": "code",
   "execution_count": 54,
   "metadata": {},
   "outputs": [
    {
     "data": {
      "text/plain": [
       "Title       object\n",
       "Price      float64\n",
       "Ratings      int64\n",
       "URL         object\n",
       "dtype: object"
      ]
     },
     "execution_count": 54,
     "metadata": {},
     "output_type": "execute_result"
    }
   ],
   "source": [
    "df.dtypes"
   ]
  },
  {
   "cell_type": "code",
   "execution_count": 55,
   "metadata": {},
   "outputs": [
    {
     "data": {
      "text/html": [
       "<div>\n",
       "<style scoped>\n",
       "    .dataframe tbody tr th:only-of-type {\n",
       "        vertical-align: middle;\n",
       "    }\n",
       "\n",
       "    .dataframe tbody tr th {\n",
       "        vertical-align: top;\n",
       "    }\n",
       "\n",
       "    .dataframe thead th {\n",
       "        text-align: right;\n",
       "    }\n",
       "</style>\n",
       "<table border=\"1\" class=\"dataframe\">\n",
       "  <thead>\n",
       "    <tr style=\"text-align: right;\">\n",
       "      <th></th>\n",
       "      <th>Price</th>\n",
       "      <th>Ratings</th>\n",
       "    </tr>\n",
       "  </thead>\n",
       "  <tbody>\n",
       "    <tr>\n",
       "      <th>Price</th>\n",
       "      <td>1.000000</td>\n",
       "      <td>-0.512287</td>\n",
       "    </tr>\n",
       "    <tr>\n",
       "      <th>Ratings</th>\n",
       "      <td>-0.512287</td>\n",
       "      <td>1.000000</td>\n",
       "    </tr>\n",
       "  </tbody>\n",
       "</table>\n",
       "</div>"
      ],
      "text/plain": [
       "            Price   Ratings\n",
       "Price    1.000000 -0.512287\n",
       "Ratings -0.512287  1.000000"
      ]
     },
     "execution_count": 55,
     "metadata": {},
     "output_type": "execute_result"
    }
   ],
   "source": [
    "df.corr()"
   ]
  },
  {
   "cell_type": "code",
   "execution_count": 56,
   "metadata": {},
   "outputs": [
    {
     "data": {
      "text/plain": [
       "<matplotlib.axes._subplots.AxesSubplot at 0x1cc56c7a4f0>"
      ]
     },
     "execution_count": 56,
     "metadata": {},
     "output_type": "execute_result"
    },
    {
     "data": {
      "image/png": "[encoded data removed]",
      "text/plain": [
       "<Figure size 720x360 with 2 Axes>"
      ]
     },
     "metadata": {
      "needs_background": "light"
     },
     "output_type": "display_data"
    }
   ],
   "source": [
    "import matplotlib.pyplot as plt\n",
    "import seaborn as sns\n",
    "\n",
    "plt.figure(figsize = (10,5))\n",
    "sns.heatmap(df.corr() , annot = True)"
   ]
  }
 ],
 "metadata": {
  "kernelspec": {
   "display_name": "Python 3",
   "language": "python",
   "name": "python3"
  },
  "language_info": {
   "codemirror_mode": {
    "name": "ipython",
    "version": 3
   },
   "file_extension": ".py",
   "mimetype": "text/x-python",
   "name": "python",
   "nbconvert_exporter": "python",
   "pygments_lexer": "ipython3",
   "version": "3.8.3"
  }
 },
 "nbformat": 4,
 "nbformat_minor": 4
}
